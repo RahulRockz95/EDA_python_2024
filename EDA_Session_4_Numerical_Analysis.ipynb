{
 "cells": [
  {
   "cell_type": "markdown",
   "id": "ba3208d9",
   "metadata": {},
   "source": [
    "**Import packages**"
   ]
  },
  {
   "cell_type": "code",
   "execution_count": 1,
   "id": "0fe4466b",
   "metadata": {},
   "outputs": [],
   "source": [
    "import numpy as np\n",
    "import pandas as pd\n",
    "import matplotlib.pyplot as plt\n",
    "import seaborn as sns"
   ]
  },
  {
   "cell_type": "code",
   "execution_count": 2,
   "id": "ff8cc2bc",
   "metadata": {},
   "outputs": [
    {
     "data": {
      "text/html": [
       "<div>\n",
       "<style scoped>\n",
       "    .dataframe tbody tr th:only-of-type {\n",
       "        vertical-align: middle;\n",
       "    }\n",
       "\n",
       "    .dataframe tbody tr th {\n",
       "        vertical-align: top;\n",
       "    }\n",
       "\n",
       "    .dataframe thead th {\n",
       "        text-align: right;\n",
       "    }\n",
       "</style>\n",
       "<table border=\"1\" class=\"dataframe\">\n",
       "  <thead>\n",
       "    <tr style=\"text-align: right;\">\n",
       "      <th></th>\n",
       "      <th>case_id</th>\n",
       "      <th>continent</th>\n",
       "      <th>education_of_employee</th>\n",
       "      <th>has_job_experience</th>\n",
       "      <th>requires_job_training</th>\n",
       "      <th>no_of_employees</th>\n",
       "      <th>yr_of_estab</th>\n",
       "      <th>region_of_employment</th>\n",
       "      <th>prevailing_wage</th>\n",
       "      <th>unit_of_wage</th>\n",
       "      <th>full_time_position</th>\n",
       "      <th>case_status</th>\n",
       "    </tr>\n",
       "  </thead>\n",
       "  <tbody>\n",
       "    <tr>\n",
       "      <th>0</th>\n",
       "      <td>EZYV01</td>\n",
       "      <td>Asia</td>\n",
       "      <td>High School</td>\n",
       "      <td>N</td>\n",
       "      <td>N</td>\n",
       "      <td>14513</td>\n",
       "      <td>2007</td>\n",
       "      <td>West</td>\n",
       "      <td>592.2029</td>\n",
       "      <td>Hour</td>\n",
       "      <td>Y</td>\n",
       "      <td>Denied</td>\n",
       "    </tr>\n",
       "    <tr>\n",
       "      <th>1</th>\n",
       "      <td>EZYV02</td>\n",
       "      <td>Asia</td>\n",
       "      <td>Master's</td>\n",
       "      <td>Y</td>\n",
       "      <td>N</td>\n",
       "      <td>2412</td>\n",
       "      <td>2002</td>\n",
       "      <td>Northeast</td>\n",
       "      <td>83425.6500</td>\n",
       "      <td>Year</td>\n",
       "      <td>Y</td>\n",
       "      <td>Certified</td>\n",
       "    </tr>\n",
       "    <tr>\n",
       "      <th>2</th>\n",
       "      <td>EZYV03</td>\n",
       "      <td>Asia</td>\n",
       "      <td>Bachelor's</td>\n",
       "      <td>N</td>\n",
       "      <td>Y</td>\n",
       "      <td>44444</td>\n",
       "      <td>2008</td>\n",
       "      <td>West</td>\n",
       "      <td>122996.8600</td>\n",
       "      <td>Year</td>\n",
       "      <td>Y</td>\n",
       "      <td>Denied</td>\n",
       "    </tr>\n",
       "    <tr>\n",
       "      <th>3</th>\n",
       "      <td>EZYV04</td>\n",
       "      <td>Asia</td>\n",
       "      <td>Bachelor's</td>\n",
       "      <td>N</td>\n",
       "      <td>N</td>\n",
       "      <td>98</td>\n",
       "      <td>1897</td>\n",
       "      <td>West</td>\n",
       "      <td>83434.0300</td>\n",
       "      <td>Year</td>\n",
       "      <td>Y</td>\n",
       "      <td>Denied</td>\n",
       "    </tr>\n",
       "    <tr>\n",
       "      <th>4</th>\n",
       "      <td>EZYV05</td>\n",
       "      <td>Africa</td>\n",
       "      <td>Master's</td>\n",
       "      <td>Y</td>\n",
       "      <td>N</td>\n",
       "      <td>1082</td>\n",
       "      <td>2005</td>\n",
       "      <td>South</td>\n",
       "      <td>149907.3900</td>\n",
       "      <td>Year</td>\n",
       "      <td>Y</td>\n",
       "      <td>Certified</td>\n",
       "    </tr>\n",
       "    <tr>\n",
       "      <th>...</th>\n",
       "      <td>...</td>\n",
       "      <td>...</td>\n",
       "      <td>...</td>\n",
       "      <td>...</td>\n",
       "      <td>...</td>\n",
       "      <td>...</td>\n",
       "      <td>...</td>\n",
       "      <td>...</td>\n",
       "      <td>...</td>\n",
       "      <td>...</td>\n",
       "      <td>...</td>\n",
       "      <td>...</td>\n",
       "    </tr>\n",
       "    <tr>\n",
       "      <th>25475</th>\n",
       "      <td>EZYV25476</td>\n",
       "      <td>Asia</td>\n",
       "      <td>Bachelor's</td>\n",
       "      <td>Y</td>\n",
       "      <td>Y</td>\n",
       "      <td>2601</td>\n",
       "      <td>2008</td>\n",
       "      <td>South</td>\n",
       "      <td>77092.5700</td>\n",
       "      <td>Year</td>\n",
       "      <td>Y</td>\n",
       "      <td>Certified</td>\n",
       "    </tr>\n",
       "    <tr>\n",
       "      <th>25476</th>\n",
       "      <td>EZYV25477</td>\n",
       "      <td>Asia</td>\n",
       "      <td>High School</td>\n",
       "      <td>Y</td>\n",
       "      <td>N</td>\n",
       "      <td>3274</td>\n",
       "      <td>2006</td>\n",
       "      <td>Northeast</td>\n",
       "      <td>279174.7900</td>\n",
       "      <td>Year</td>\n",
       "      <td>Y</td>\n",
       "      <td>Certified</td>\n",
       "    </tr>\n",
       "    <tr>\n",
       "      <th>25477</th>\n",
       "      <td>EZYV25478</td>\n",
       "      <td>Asia</td>\n",
       "      <td>Master's</td>\n",
       "      <td>Y</td>\n",
       "      <td>N</td>\n",
       "      <td>1121</td>\n",
       "      <td>1910</td>\n",
       "      <td>South</td>\n",
       "      <td>146298.8500</td>\n",
       "      <td>Year</td>\n",
       "      <td>N</td>\n",
       "      <td>Certified</td>\n",
       "    </tr>\n",
       "    <tr>\n",
       "      <th>25478</th>\n",
       "      <td>EZYV25479</td>\n",
       "      <td>Asia</td>\n",
       "      <td>Master's</td>\n",
       "      <td>Y</td>\n",
       "      <td>Y</td>\n",
       "      <td>1918</td>\n",
       "      <td>1887</td>\n",
       "      <td>West</td>\n",
       "      <td>86154.7700</td>\n",
       "      <td>Year</td>\n",
       "      <td>Y</td>\n",
       "      <td>Certified</td>\n",
       "    </tr>\n",
       "    <tr>\n",
       "      <th>25479</th>\n",
       "      <td>EZYV25480</td>\n",
       "      <td>Asia</td>\n",
       "      <td>Bachelor's</td>\n",
       "      <td>Y</td>\n",
       "      <td>N</td>\n",
       "      <td>3195</td>\n",
       "      <td>1960</td>\n",
       "      <td>Midwest</td>\n",
       "      <td>70876.9100</td>\n",
       "      <td>Year</td>\n",
       "      <td>Y</td>\n",
       "      <td>Certified</td>\n",
       "    </tr>\n",
       "  </tbody>\n",
       "</table>\n",
       "<p>25480 rows × 12 columns</p>\n",
       "</div>"
      ],
      "text/plain": [
       "         case_id continent education_of_employee has_job_experience  \\\n",
       "0         EZYV01      Asia           High School                  N   \n",
       "1         EZYV02      Asia              Master's                  Y   \n",
       "2         EZYV03      Asia            Bachelor's                  N   \n",
       "3         EZYV04      Asia            Bachelor's                  N   \n",
       "4         EZYV05    Africa              Master's                  Y   \n",
       "...          ...       ...                   ...                ...   \n",
       "25475  EZYV25476      Asia            Bachelor's                  Y   \n",
       "25476  EZYV25477      Asia           High School                  Y   \n",
       "25477  EZYV25478      Asia              Master's                  Y   \n",
       "25478  EZYV25479      Asia              Master's                  Y   \n",
       "25479  EZYV25480      Asia            Bachelor's                  Y   \n",
       "\n",
       "      requires_job_training  no_of_employees  yr_of_estab  \\\n",
       "0                         N            14513         2007   \n",
       "1                         N             2412         2002   \n",
       "2                         Y            44444         2008   \n",
       "3                         N               98         1897   \n",
       "4                         N             1082         2005   \n",
       "...                     ...              ...          ...   \n",
       "25475                     Y             2601         2008   \n",
       "25476                     N             3274         2006   \n",
       "25477                     N             1121         1910   \n",
       "25478                     Y             1918         1887   \n",
       "25479                     N             3195         1960   \n",
       "\n",
       "      region_of_employment  prevailing_wage unit_of_wage full_time_position  \\\n",
       "0                     West         592.2029         Hour                  Y   \n",
       "1                Northeast       83425.6500         Year                  Y   \n",
       "2                     West      122996.8600         Year                  Y   \n",
       "3                     West       83434.0300         Year                  Y   \n",
       "4                    South      149907.3900         Year                  Y   \n",
       "...                    ...              ...          ...                ...   \n",
       "25475                South       77092.5700         Year                  Y   \n",
       "25476            Northeast      279174.7900         Year                  Y   \n",
       "25477                South      146298.8500         Year                  N   \n",
       "25478                 West       86154.7700         Year                  Y   \n",
       "25479              Midwest       70876.9100         Year                  Y   \n",
       "\n",
       "      case_status  \n",
       "0          Denied  \n",
       "1       Certified  \n",
       "2          Denied  \n",
       "3          Denied  \n",
       "4       Certified  \n",
       "...           ...  \n",
       "25475   Certified  \n",
       "25476   Certified  \n",
       "25477   Certified  \n",
       "25478   Certified  \n",
       "25479   Certified  \n",
       "\n",
       "[25480 rows x 12 columns]"
      ]
     },
     "execution_count": 2,
     "metadata": {},
     "output_type": "execute_result"
    }
   ],
   "source": [
    "visa_df = pd.read_csv(\"Visadataset.csv\")\n",
    "visa_df"
   ]
  },
  {
   "cell_type": "markdown",
   "id": "023010a8",
   "metadata": {},
   "source": [
    "**Convert numerical and categorical columns**"
   ]
  },
  {
   "cell_type": "code",
   "execution_count": 3,
   "id": "3f9f2f5b",
   "metadata": {},
   "outputs": [
    {
     "data": {
      "text/plain": [
       "Index(['no_of_employees', 'yr_of_estab', 'prevailing_wage'], dtype='object')"
      ]
     },
     "execution_count": 3,
     "metadata": {},
     "output_type": "execute_result"
    }
   ],
   "source": [
    "cat_columns = visa_df.select_dtypes(include='object').columns\n",
    "num_columns = visa_df.select_dtypes(exclude='object').columns\n",
    "num_columns"
   ]
  },
  {
   "cell_type": "markdown",
   "id": "60204945",
   "metadata": {},
   "source": [
    "**prevailing_wage**"
   ]
  },
  {
   "cell_type": "code",
   "execution_count": 4,
   "id": "c9f7710a",
   "metadata": {},
   "outputs": [
    {
     "data": {
      "text/plain": [
       "0           592.2029\n",
       "1         83425.6500\n",
       "2        122996.8600\n",
       "3         83434.0300\n",
       "4        149907.3900\n",
       "            ...     \n",
       "25475     77092.5700\n",
       "25476    279174.7900\n",
       "25477    146298.8500\n",
       "25478     86154.7700\n",
       "25479     70876.9100\n",
       "Name: prevailing_wage, Length: 25480, dtype: float64"
      ]
     },
     "execution_count": 4,
     "metadata": {},
     "output_type": "execute_result"
    }
   ],
   "source": [
    "visa_df.loc[:, ['prevailing_wage']] # loc method\n",
    "visa_df.iloc[:, [8]] #iloc method\n",
    "visa_df['prevailing_wage'] # Series type\n",
    "visa_df[['prevailing_wage']] # Dataframe type\n",
    "visa_df.prevailing_wage # Series type"
   ]
  },
  {
   "cell_type": "markdown",
   "id": "fd52493f",
   "metadata": {},
   "source": [
    "- len \n",
    "\n",
    "- min\n",
    "\n",
    "- max\n",
    "\n",
    "- average (mean)\n",
    "\n",
    "- standard deviation (std)\n",
    "\n",
    "- median \n",
    "\n",
    "- 50p\n",
    "\n",
    "- 25p\n",
    "\n",
    "- 75p"
   ]
  },
  {
   "cell_type": "markdown",
   "id": "5df628db",
   "metadata": {},
   "source": [
    "**length**"
   ]
  },
  {
   "cell_type": "code",
   "execution_count": 9,
   "id": "def46d55",
   "metadata": {},
   "outputs": [
    {
     "data": {
      "text/plain": [
       "25480"
      ]
     },
     "execution_count": 9,
     "metadata": {},
     "output_type": "execute_result"
    }
   ],
   "source": [
    "len(visa_df['prevailing_wage'])"
   ]
  },
  {
   "cell_type": "code",
   "execution_count": null,
   "id": "19b90968",
   "metadata": {},
   "outputs": [],
   "source": [
    "visa_df.iloc[rows,columns]\n",
    "start:stop:step\n",
    "visa_df[3:7,2:5]\n",
    "\n",
    "# rows  3  4  5  6\n",
    "#col    2  3  4"
   ]
  },
  {
   "cell_type": "markdown",
   "id": "6687521d",
   "metadata": {},
   "source": [
    "**minimum Value**"
   ]
  },
  {
   "cell_type": "code",
   "execution_count": 10,
   "id": "f0bfd036",
   "metadata": {},
   "outputs": [
    {
     "data": {
      "text/plain": [
       "2.1367"
      ]
     },
     "execution_count": 10,
     "metadata": {},
     "output_type": "execute_result"
    }
   ],
   "source": [
    "min(visa_df['prevailing_wage'])"
   ]
  },
  {
   "cell_type": "code",
   "execution_count": 11,
   "id": "d4fd6a2c",
   "metadata": {},
   "outputs": [
    {
     "data": {
      "text/plain": [
       "319210.27"
      ]
     },
     "execution_count": 11,
     "metadata": {},
     "output_type": "execute_result"
    }
   ],
   "source": [
    "max(visa_df['prevailing_wage'])"
   ]
  },
  {
   "cell_type": "code",
   "execution_count": 28,
   "id": "08be3ba1",
   "metadata": {},
   "outputs": [
    {
     "name": "stdout",
     "output_type": "stream",
     "text": [
      "the number of wage samples are: 25480\n",
      "the minimum wage is : 2.1367\n",
      "the maximum wage is : 319210.27\n"
     ]
    }
   ],
   "source": [
    "count_wage = len(visa_df['prevailing_wage'])\n",
    "min_wage = min(visa_df['prevailing_wage'])\n",
    "max_wage= max(visa_df['prevailing_wage'])\n",
    "print(\"the number of wage samples are:\",count)\n",
    "print(\"the minimum wage is :\",min_wage)\n",
    "print(\"the maximum wage is :\",max_wage)"
   ]
  },
  {
   "cell_type": "markdown",
   "id": "4c8c5069",
   "metadata": {},
   "source": [
    "**Average(mean)**"
   ]
  },
  {
   "cell_type": "code",
   "execution_count": 16,
   "id": "7ff70668",
   "metadata": {},
   "outputs": [
    {
     "data": {
      "text/plain": [
       "74455.81459209183"
      ]
     },
     "execution_count": 16,
     "metadata": {},
     "output_type": "execute_result"
    }
   ],
   "source": [
    "visa_df['prevailing_wage'].mean()"
   ]
  },
  {
   "cell_type": "markdown",
   "id": "8bd48ad9",
   "metadata": {},
   "source": [
    "**median**"
   ]
  },
  {
   "cell_type": "code",
   "execution_count": 17,
   "id": "faf297c0",
   "metadata": {},
   "outputs": [
    {
     "data": {
      "text/plain": [
       "70308.20999999999"
      ]
     },
     "execution_count": 17,
     "metadata": {},
     "output_type": "execute_result"
    }
   ],
   "source": [
    "visa_df['prevailing_wage'].median()"
   ]
  },
  {
   "cell_type": "code",
   "execution_count": 18,
   "id": "bc35a763",
   "metadata": {},
   "outputs": [
    {
     "name": "stdout",
     "output_type": "stream",
     "text": [
      "The average wage is :  74455.81\n",
      "The median wage is:  70308.21\n"
     ]
    }
   ],
   "source": [
    "mean_wage = round(visa_df['prevailing_wage'].mean(),2)\n",
    "median_wage = round(visa_df['prevailing_wage'].median(),2)\n",
    "print(\"The average wage is : \",mean_wage)\n",
    "print(\"The median wage is: \", median_wage)"
   ]
  },
  {
   "cell_type": "markdown",
   "id": "e725f693",
   "metadata": {},
   "source": [
    "- Mode is not a suitable metric for numerical analysis\n",
    "\n",
    "- Different observations can have same values"
   ]
  },
  {
   "cell_type": "markdown",
   "id": "f2f32668",
   "metadata": {},
   "source": [
    "**Using Numpy**"
   ]
  },
  {
   "cell_type": "code",
   "execution_count": 20,
   "id": "8d7cf4cd",
   "metadata": {},
   "outputs": [
    {
     "data": {
      "text/plain": [
       "74455.81459209183"
      ]
     },
     "execution_count": 20,
     "metadata": {},
     "output_type": "execute_result"
    }
   ],
   "source": [
    "np.mean(visa_df['prevailing_wage'])"
   ]
  },
  {
   "cell_type": "code",
   "execution_count": 21,
   "id": "bb9dfd51",
   "metadata": {},
   "outputs": [
    {
     "data": {
      "text/plain": [
       "70308.20999999999"
      ]
     },
     "execution_count": 21,
     "metadata": {},
     "output_type": "execute_result"
    }
   ],
   "source": [
    "np.median(visa_df['prevailing_wage'])"
   ]
  },
  {
   "cell_type": "markdown",
   "id": "2f64796e",
   "metadata": {},
   "source": [
    "**Standard Deviation (Std)**"
   ]
  },
  {
   "cell_type": "code",
   "execution_count": 24,
   "id": "d2602a91",
   "metadata": {},
   "outputs": [
    {
     "data": {
      "text/plain": [
       "52815.94"
      ]
     },
     "execution_count": 24,
     "metadata": {},
     "output_type": "execute_result"
    }
   ],
   "source": [
    "std_wage = round(visa_df['prevailing_wage'].std(),2)\n",
    "std_wage"
   ]
  },
  {
   "cell_type": "code",
   "execution_count": null,
   "id": "aeda2d3a",
   "metadata": {},
   "outputs": [],
   "source": [
    "count_wage = len(visa_df['prevailing_wage'])\n",
    "min_wage = min(visa_df['prevailing_wage'])\n",
    "max_wage= max(visa_df['prevailing_wage'])\n",
    "mean_wage = round(visa_df['prevailing_wage'].mean(),2)\n",
    "median_wage = round(visa_df['prevailing_wage'].median(),2)\n",
    "std_wage = round(visa_df['prevailing_wage'].std(),2)"
   ]
  },
  {
   "cell_type": "code",
   "execution_count": null,
   "id": "e69bc5b0",
   "metadata": {},
   "outputs": [],
   "source": [
    "# Step-1: Create an empty list, keep all the values in a list\n",
    "# Step-2: Create a index list = ['Count','min','max' and so on]\n",
    "# Step-3: Create a cols list = ['pwage']"
   ]
  },
  {
   "cell_type": "code",
   "execution_count": 29,
   "id": "f4597bba",
   "metadata": {},
   "outputs": [
    {
     "data": {
      "text/html": [
       "<div>\n",
       "<style scoped>\n",
       "    .dataframe tbody tr th:only-of-type {\n",
       "        vertical-align: middle;\n",
       "    }\n",
       "\n",
       "    .dataframe tbody tr th {\n",
       "        vertical-align: top;\n",
       "    }\n",
       "\n",
       "    .dataframe thead th {\n",
       "        text-align: right;\n",
       "    }\n",
       "</style>\n",
       "<table border=\"1\" class=\"dataframe\">\n",
       "  <thead>\n",
       "    <tr style=\"text-align: right;\">\n",
       "      <th></th>\n",
       "      <th>prevailing_wage</th>\n",
       "    </tr>\n",
       "  </thead>\n",
       "  <tbody>\n",
       "    <tr>\n",
       "      <th>Count</th>\n",
       "      <td>25480.0000</td>\n",
       "    </tr>\n",
       "    <tr>\n",
       "      <th>min</th>\n",
       "      <td>2.1367</td>\n",
       "    </tr>\n",
       "    <tr>\n",
       "      <th>max</th>\n",
       "      <td>319210.2700</td>\n",
       "    </tr>\n",
       "    <tr>\n",
       "      <th>mean</th>\n",
       "      <td>74455.8100</td>\n",
       "    </tr>\n",
       "    <tr>\n",
       "      <th>median</th>\n",
       "      <td>70308.2100</td>\n",
       "    </tr>\n",
       "    <tr>\n",
       "      <th>std</th>\n",
       "      <td>52815.9400</td>\n",
       "    </tr>\n",
       "  </tbody>\n",
       "</table>\n",
       "</div>"
      ],
      "text/plain": [
       "        prevailing_wage\n",
       "Count        25480.0000\n",
       "min              2.1367\n",
       "max         319210.2700\n",
       "mean         74455.8100\n",
       "median       70308.2100\n",
       "std          52815.9400"
      ]
     },
     "execution_count": 29,
     "metadata": {},
     "output_type": "execute_result"
    }
   ],
   "source": [
    "values = [count_wage, min_wage,max_wage,mean_wage,median_wage,std_wage]\n",
    "index = ['Count','min','max','mean','median','std']\n",
    "cols = ['prevailing_wage']\n",
    "\n",
    "df = pd.DataFrame(values,index=index,columns=cols)\n",
    "df"
   ]
  },
  {
   "cell_type": "code",
   "execution_count": 30,
   "id": "856b9e96",
   "metadata": {},
   "outputs": [
    {
     "data": {
      "text/html": [
       "<div>\n",
       "<style scoped>\n",
       "    .dataframe tbody tr th:only-of-type {\n",
       "        vertical-align: middle;\n",
       "    }\n",
       "\n",
       "    .dataframe tbody tr th {\n",
       "        vertical-align: top;\n",
       "    }\n",
       "\n",
       "    .dataframe thead th {\n",
       "        text-align: right;\n",
       "    }\n",
       "</style>\n",
       "<table border=\"1\" class=\"dataframe\">\n",
       "  <thead>\n",
       "    <tr style=\"text-align: right;\">\n",
       "      <th></th>\n",
       "      <th>no_of_employees</th>\n",
       "      <th>yr_of_estab</th>\n",
       "      <th>prevailing_wage</th>\n",
       "    </tr>\n",
       "  </thead>\n",
       "  <tbody>\n",
       "    <tr>\n",
       "      <th>count</th>\n",
       "      <td>25480.000000</td>\n",
       "      <td>25480.000000</td>\n",
       "      <td>25480.000000</td>\n",
       "    </tr>\n",
       "    <tr>\n",
       "      <th>mean</th>\n",
       "      <td>5667.043210</td>\n",
       "      <td>1979.409929</td>\n",
       "      <td>74455.814592</td>\n",
       "    </tr>\n",
       "    <tr>\n",
       "      <th>std</th>\n",
       "      <td>22877.928848</td>\n",
       "      <td>42.366929</td>\n",
       "      <td>52815.942327</td>\n",
       "    </tr>\n",
       "    <tr>\n",
       "      <th>min</th>\n",
       "      <td>-26.000000</td>\n",
       "      <td>1800.000000</td>\n",
       "      <td>2.136700</td>\n",
       "    </tr>\n",
       "    <tr>\n",
       "      <th>25%</th>\n",
       "      <td>1022.000000</td>\n",
       "      <td>1976.000000</td>\n",
       "      <td>34015.480000</td>\n",
       "    </tr>\n",
       "    <tr>\n",
       "      <th>50%</th>\n",
       "      <td>2109.000000</td>\n",
       "      <td>1997.000000</td>\n",
       "      <td>70308.210000</td>\n",
       "    </tr>\n",
       "    <tr>\n",
       "      <th>75%</th>\n",
       "      <td>3504.000000</td>\n",
       "      <td>2005.000000</td>\n",
       "      <td>107735.512500</td>\n",
       "    </tr>\n",
       "    <tr>\n",
       "      <th>max</th>\n",
       "      <td>602069.000000</td>\n",
       "      <td>2016.000000</td>\n",
       "      <td>319210.270000</td>\n",
       "    </tr>\n",
       "  </tbody>\n",
       "</table>\n",
       "</div>"
      ],
      "text/plain": [
       "       no_of_employees   yr_of_estab  prevailing_wage\n",
       "count     25480.000000  25480.000000     25480.000000\n",
       "mean       5667.043210   1979.409929     74455.814592\n",
       "std       22877.928848     42.366929     52815.942327\n",
       "min         -26.000000   1800.000000         2.136700\n",
       "25%        1022.000000   1976.000000     34015.480000\n",
       "50%        2109.000000   1997.000000     70308.210000\n",
       "75%        3504.000000   2005.000000    107735.512500\n",
       "max      602069.000000   2016.000000    319210.270000"
      ]
     },
     "execution_count": 30,
     "metadata": {},
     "output_type": "execute_result"
    }
   ],
   "source": [
    "visa_df.describe()"
   ]
  },
  {
   "cell_type": "markdown",
   "id": "a09cefc3",
   "metadata": {},
   "source": [
    "**25p-50p-75p**"
   ]
  },
  {
   "cell_type": "markdown",
   "id": "32f3eb62",
   "metadata": {},
   "source": [
    "**Percentile**\n",
    "\n",
    "- In numpy we have percentile\n",
    "\n",
    "- The method is np.percentile()\n",
    "\n",
    "- It takes the two arguments\n",
    "\n",
    "    - a: array means data \n",
    "\n",
    "    - q: value which percentile data we want , that value we need to provide\n",
    "\n",
    "    - if we we want 25p value then q=25\n",
    "\n",
    "**Quantile**\n",
    "\n",
    "- In numpy we have quantile method \n",
    "\n",
    "- The method is np.quantile()\n",
    "\n",
    "- It takes the two arguments\n",
    "\n",
    "    - a: array means data \n",
    "\n",
    "    - q: value which percentile data we want , that value we need to provide\n",
    "\n",
    "    - if we we want 25p value then q=0.25\n",
    "    \n",
    "    - if we we want 50p value then q=0.50"
   ]
  },
  {
   "cell_type": "code",
   "execution_count": 34,
   "id": "97f6a3d5",
   "metadata": {},
   "outputs": [
    {
     "data": {
      "text/plain": [
       "42032.848999999995"
      ]
     },
     "execution_count": 34,
     "metadata": {},
     "output_type": "execute_result"
    }
   ],
   "source": [
    "np.percentile(visa_df['prevailing_wage'], 30)\n",
    "# 0 to 100"
   ]
  },
  {
   "cell_type": "code",
   "execution_count": 35,
   "id": "581bf2fc",
   "metadata": {},
   "outputs": [
    {
     "data": {
      "text/plain": [
       "42032.848999999995"
      ]
     },
     "execution_count": 35,
     "metadata": {},
     "output_type": "execute_result"
    }
   ],
   "source": [
    "np.quantile(visa_df['prevailing_wage'], 0.30)\n",
    "# 0 to 1"
   ]
  },
  {
   "cell_type": "code",
   "execution_count": 36,
   "id": "23c013fd",
   "metadata": {},
   "outputs": [
    {
     "name": "stdout",
     "output_type": "stream",
     "text": [
      "25p value is : 34015.48\n",
      "50p value is : 70308.21\n",
      "75p value is : 107735.51\n"
     ]
    }
   ],
   "source": [
    "wage_25p=round(np.percentile(visa_df['prevailing_wage'], 25),2)\n",
    "wage_50p=round(np.percentile(visa_df['prevailing_wage'], 50),2)\n",
    "wage_75p=round(np.percentile(visa_df['prevailing_wage'], 75),2)\n",
    "print(\"25p value is :\", wage_25p)\n",
    "print(\"50p value is :\", wage_50p)\n",
    "print(\"75p value is :\", wage_75p)"
   ]
  },
  {
   "cell_type": "code",
   "execution_count": 37,
   "id": "c3a20ea6",
   "metadata": {},
   "outputs": [
    {
     "data": {
      "text/html": [
       "<div>\n",
       "<style scoped>\n",
       "    .dataframe tbody tr th:only-of-type {\n",
       "        vertical-align: middle;\n",
       "    }\n",
       "\n",
       "    .dataframe tbody tr th {\n",
       "        vertical-align: top;\n",
       "    }\n",
       "\n",
       "    .dataframe thead th {\n",
       "        text-align: right;\n",
       "    }\n",
       "</style>\n",
       "<table border=\"1\" class=\"dataframe\">\n",
       "  <thead>\n",
       "    <tr style=\"text-align: right;\">\n",
       "      <th></th>\n",
       "      <th>prevailing_wage</th>\n",
       "    </tr>\n",
       "  </thead>\n",
       "  <tbody>\n",
       "    <tr>\n",
       "      <th>25p</th>\n",
       "      <td>34015.48</td>\n",
       "    </tr>\n",
       "    <tr>\n",
       "      <th>50p</th>\n",
       "      <td>70308.21</td>\n",
       "    </tr>\n",
       "    <tr>\n",
       "      <th>75p</th>\n",
       "      <td>107735.51</td>\n",
       "    </tr>\n",
       "  </tbody>\n",
       "</table>\n",
       "</div>"
      ],
      "text/plain": [
       "     prevailing_wage\n",
       "25p         34015.48\n",
       "50p         70308.21\n",
       "75p        107735.51"
      ]
     },
     "execution_count": 37,
     "metadata": {},
     "output_type": "execute_result"
    }
   ],
   "source": [
    "values = [wage_25p,wage_50p,wage_75p]\n",
    "index = ['25p','50p','75p']\n",
    "cols = ['prevailing_wage']\n",
    "\n",
    "df = pd.DataFrame(values,index=index,columns=cols)\n",
    "df"
   ]
  },
  {
   "cell_type": "code",
   "execution_count": null,
   "id": "d2f7c957",
   "metadata": {},
   "outputs": [],
   "source": [
    "# Import the packages \n",
    "# Read the data"
   ]
  },
  {
   "cell_type": "code",
   "execution_count": 9,
   "id": "c89a8027",
   "metadata": {},
   "outputs": [],
   "source": [
    "df1=pd.DataFrame()\n",
    "for i in num_columns:\n",
    "    Count = len(visa_df[i])\n",
    "    Min = min(visa_df[i])\n",
    "    Max= max(visa_df[i])\n",
    "    Mean = round(visa_df[i].mean(),2)\n",
    "    Median = round(visa_df[i].median(),2)\n",
    "    Std = round(visa_df[i].std(),2)\n",
    "    p_25p=round(np.percentile(visa_df[i], 25),2)\n",
    "    p_50p=round(np.percentile(visa_df[i], 50),2)\n",
    "    p_75p=round(np.percentile(visa_df[i], 75),2)\n",
    "    values = [Count, Min,Max,Mean,Median,Std, p_25p,p_50p,p_75p]\n",
    "    index = ['Count','min','max','mean','median','std','25p','50p','75p']\n",
    "    cols = [i]\n",
    "    df2 = pd.DataFrame(values,index=index,columns=cols)\n",
    "    df1= pd.concat([df1,df2],axis=1)"
   ]
  },
  {
   "cell_type": "code",
   "execution_count": 10,
   "id": "1124508e",
   "metadata": {},
   "outputs": [
    {
     "data": {
      "text/html": [
       "<div>\n",
       "<style scoped>\n",
       "    .dataframe tbody tr th:only-of-type {\n",
       "        vertical-align: middle;\n",
       "    }\n",
       "\n",
       "    .dataframe tbody tr th {\n",
       "        vertical-align: top;\n",
       "    }\n",
       "\n",
       "    .dataframe thead th {\n",
       "        text-align: right;\n",
       "    }\n",
       "</style>\n",
       "<table border=\"1\" class=\"dataframe\">\n",
       "  <thead>\n",
       "    <tr style=\"text-align: right;\">\n",
       "      <th></th>\n",
       "      <th>no_of_employees</th>\n",
       "      <th>yr_of_estab</th>\n",
       "      <th>prevailing_wage</th>\n",
       "    </tr>\n",
       "  </thead>\n",
       "  <tbody>\n",
       "    <tr>\n",
       "      <th>Count</th>\n",
       "      <td>25480.00</td>\n",
       "      <td>25480.00</td>\n",
       "      <td>25480.0000</td>\n",
       "    </tr>\n",
       "    <tr>\n",
       "      <th>min</th>\n",
       "      <td>-26.00</td>\n",
       "      <td>1800.00</td>\n",
       "      <td>2.1367</td>\n",
       "    </tr>\n",
       "    <tr>\n",
       "      <th>max</th>\n",
       "      <td>602069.00</td>\n",
       "      <td>2016.00</td>\n",
       "      <td>319210.2700</td>\n",
       "    </tr>\n",
       "    <tr>\n",
       "      <th>mean</th>\n",
       "      <td>5667.04</td>\n",
       "      <td>1979.41</td>\n",
       "      <td>74455.8100</td>\n",
       "    </tr>\n",
       "    <tr>\n",
       "      <th>median</th>\n",
       "      <td>2109.00</td>\n",
       "      <td>1997.00</td>\n",
       "      <td>70308.2100</td>\n",
       "    </tr>\n",
       "    <tr>\n",
       "      <th>std</th>\n",
       "      <td>22877.93</td>\n",
       "      <td>42.37</td>\n",
       "      <td>52815.9400</td>\n",
       "    </tr>\n",
       "    <tr>\n",
       "      <th>25p</th>\n",
       "      <td>1022.00</td>\n",
       "      <td>1976.00</td>\n",
       "      <td>34015.4800</td>\n",
       "    </tr>\n",
       "    <tr>\n",
       "      <th>50p</th>\n",
       "      <td>2109.00</td>\n",
       "      <td>1997.00</td>\n",
       "      <td>70308.2100</td>\n",
       "    </tr>\n",
       "    <tr>\n",
       "      <th>75p</th>\n",
       "      <td>3504.00</td>\n",
       "      <td>2005.00</td>\n",
       "      <td>107735.5100</td>\n",
       "    </tr>\n",
       "  </tbody>\n",
       "</table>\n",
       "</div>"
      ],
      "text/plain": [
       "        no_of_employees  yr_of_estab  prevailing_wage\n",
       "Count          25480.00     25480.00       25480.0000\n",
       "min              -26.00      1800.00           2.1367\n",
       "max           602069.00      2016.00      319210.2700\n",
       "mean            5667.04      1979.41       74455.8100\n",
       "median          2109.00      1997.00       70308.2100\n",
       "std            22877.93        42.37       52815.9400\n",
       "25p             1022.00      1976.00       34015.4800\n",
       "50p             2109.00      1997.00       70308.2100\n",
       "75p             3504.00      2005.00      107735.5100"
      ]
     },
     "execution_count": 10,
     "metadata": {},
     "output_type": "execute_result"
    }
   ],
   "source": [
    "df1"
   ]
  },
  {
   "cell_type": "markdown",
   "id": "311401b5",
   "metadata": {},
   "source": [
    "**Percentile**\n",
    "\n",
    "- 25p:\n",
    "\n",
    "    - Asssume that 25p value = x\n",
    "    \n",
    "    - 25percentage of data less than value : x\n",
    "    \n",
    " - For example prevailing_wage 25p value is : 34015.47\n",
    " \n",
    " - 25 percentage of people having salary less than 34017.47\n",
    " \n",
    " - Total members: 25480\n",
    " \n",
    " - 25 percentage of 25480=6370\n",
    " \n",
    " - which means 6370 people has salary less than 34017.47"
   ]
  },
  {
   "cell_type": "code",
   "execution_count": 11,
   "id": "a8674725",
   "metadata": {},
   "outputs": [
    {
     "data": {
      "text/plain": [
       "34015.479999999996"
      ]
     },
     "execution_count": 11,
     "metadata": {},
     "output_type": "execute_result"
    }
   ],
   "source": [
    "np.percentile(visa_df['prevailing_wage'],25)"
   ]
  },
  {
   "cell_type": "code",
   "execution_count": 12,
   "id": "22d89354",
   "metadata": {},
   "outputs": [
    {
     "data": {
      "text/plain": [
       "6370.0"
      ]
     },
     "execution_count": 12,
     "metadata": {},
     "output_type": "execute_result"
    }
   ],
   "source": [
    "25*25480/100"
   ]
  },
  {
   "cell_type": "code",
   "execution_count": 15,
   "id": "d9e33855",
   "metadata": {},
   "outputs": [
    {
     "data": {
      "text/plain": [
       "6370"
      ]
     },
     "execution_count": 15,
     "metadata": {},
     "output_type": "execute_result"
    }
   ],
   "source": [
    "#Step-1: Read the prevailing wage\n",
    "#Step-2: Provide the condition\n",
    "#         prevailing wage < percentile value\n",
    "wage_data = visa_df['prevailing_wage']\n",
    "p_25 = np.percentile(visa_df['prevailing_wage'],25)\n",
    "con = wage_data < p_25\n",
    "len(visa_df[con])"
   ]
  },
  {
   "cell_type": "code",
   "execution_count": 16,
   "id": "18bd478e",
   "metadata": {},
   "outputs": [
    {
     "data": {
      "text/plain": [
       "12740"
      ]
     },
     "execution_count": 16,
     "metadata": {},
     "output_type": "execute_result"
    }
   ],
   "source": [
    "wage_data = visa_df['prevailing_wage']\n",
    "p_50 = np.percentile(visa_df['prevailing_wage'],50)\n",
    "con = wage_data < p_50\n",
    "len(visa_df[con])"
   ]
  },
  {
   "cell_type": "code",
   "execution_count": 17,
   "id": "bb5e3702",
   "metadata": {},
   "outputs": [
    {
     "data": {
      "text/plain": [
       "19110"
      ]
     },
     "execution_count": 17,
     "metadata": {},
     "output_type": "execute_result"
    }
   ],
   "source": [
    "wage_data = visa_df['prevailing_wage']\n",
    "p_75 = np.percentile(visa_df['prevailing_wage'],75)\n",
    "con = wage_data < p_75\n",
    "len(visa_df[con])"
   ]
  },
  {
   "cell_type": "markdown",
   "id": "33c3cc2c",
   "metadata": {},
   "source": [
    "**Emperical Rule**\n",
    "\n",
    "- mean-1 *std to mean+1*std : 68%\n",
    "- mean-2 *std to mean+2*std : 95%\n",
    "- mean-3 *std to mean+3*std : 99.7%"
   ]
  },
  {
   "cell_type": "code",
   "execution_count": null,
   "id": "007cefe2",
   "metadata": {},
   "outputs": [],
   "source": [
    "# Step-1: calculate the mean of prevailing wage\n",
    "# Step-2: calculate the std of prevailing wage\n",
    "# Step-3: lb=mean-1*std\n",
    "# Step-4: ub=mean+1*std\n",
    "# Step-5: con1 = data<ub\n",
    "# Step-6: con2= data>lb\n",
    "# Step-7: con3= con1 and con2\n",
    "# Step-8: data[con3]\n",
    "\n",
    "# Step-9: compare with 68% 25480 count"
   ]
  },
  {
   "cell_type": "code",
   "execution_count": 4,
   "id": "57f3ac79",
   "metadata": {},
   "outputs": [
    {
     "name": "stdout",
     "output_type": "stream",
     "text": [
      "17171\n",
      "17326.4\n"
     ]
    }
   ],
   "source": [
    "mu = visa_df['prevailing_wage'].mean()\n",
    "sigma = visa_df['prevailing_wage'].std()\n",
    "lb = mu-1*sigma\n",
    "ub = mu+1*sigma\n",
    "con1=visa_df['prevailing_wage'] < ub\n",
    "con2=visa_df['prevailing_wage'] > lb\n",
    "con3 = con1 & con2\n",
    "print(len(visa_df[con3]))\n",
    "print(68*len(visa_df)/100)"
   ]
  },
  {
   "cell_type": "code",
   "execution_count": 6,
   "id": "6eaaeab4",
   "metadata": {},
   "outputs": [
    {
     "name": "stdout",
     "output_type": "stream",
     "text": [
      "24582\n",
      "24206.0\n"
     ]
    }
   ],
   "source": [
    "mu = visa_df['prevailing_wage'].mean()\n",
    "sigma = visa_df['prevailing_wage'].std()\n",
    "lb = mu-2*sigma\n",
    "ub = mu+2*sigma\n",
    "con1=visa_df['prevailing_wage'] < ub\n",
    "con2=visa_df['prevailing_wage'] > lb\n",
    "con3 = con1 & con2\n",
    "print(len(visa_df[con3]))\n",
    "print(95*len(visa_df)/100)"
   ]
  },
  {
   "cell_type": "code",
   "execution_count": null,
   "id": "f3a3b268",
   "metadata": {},
   "outputs": [],
   "source": [
    "# import the packages \n",
    "# Read the data"
   ]
  },
  {
   "cell_type": "markdown",
   "id": "cb487bb1",
   "metadata": {},
   "source": [
    "**Describe function**"
   ]
  },
  {
   "cell_type": "code",
   "execution_count": 5,
   "id": "9cd4fa24",
   "metadata": {},
   "outputs": [
    {
     "data": {
      "text/html": [
       "<div>\n",
       "<style scoped>\n",
       "    .dataframe tbody tr th:only-of-type {\n",
       "        vertical-align: middle;\n",
       "    }\n",
       "\n",
       "    .dataframe tbody tr th {\n",
       "        vertical-align: top;\n",
       "    }\n",
       "\n",
       "    .dataframe thead th {\n",
       "        text-align: right;\n",
       "    }\n",
       "</style>\n",
       "<table border=\"1\" class=\"dataframe\">\n",
       "  <thead>\n",
       "    <tr style=\"text-align: right;\">\n",
       "      <th></th>\n",
       "      <th>no_of_employees</th>\n",
       "      <th>yr_of_estab</th>\n",
       "      <th>prevailing_wage</th>\n",
       "    </tr>\n",
       "  </thead>\n",
       "  <tbody>\n",
       "    <tr>\n",
       "      <th>count</th>\n",
       "      <td>25480.000000</td>\n",
       "      <td>25480.000000</td>\n",
       "      <td>25480.000000</td>\n",
       "    </tr>\n",
       "    <tr>\n",
       "      <th>mean</th>\n",
       "      <td>5667.043210</td>\n",
       "      <td>1979.409929</td>\n",
       "      <td>74455.814592</td>\n",
       "    </tr>\n",
       "    <tr>\n",
       "      <th>std</th>\n",
       "      <td>22877.928848</td>\n",
       "      <td>42.366929</td>\n",
       "      <td>52815.942327</td>\n",
       "    </tr>\n",
       "    <tr>\n",
       "      <th>min</th>\n",
       "      <td>-26.000000</td>\n",
       "      <td>1800.000000</td>\n",
       "      <td>2.136700</td>\n",
       "    </tr>\n",
       "    <tr>\n",
       "      <th>25%</th>\n",
       "      <td>1022.000000</td>\n",
       "      <td>1976.000000</td>\n",
       "      <td>34015.480000</td>\n",
       "    </tr>\n",
       "    <tr>\n",
       "      <th>50%</th>\n",
       "      <td>2109.000000</td>\n",
       "      <td>1997.000000</td>\n",
       "      <td>70308.210000</td>\n",
       "    </tr>\n",
       "    <tr>\n",
       "      <th>75%</th>\n",
       "      <td>3504.000000</td>\n",
       "      <td>2005.000000</td>\n",
       "      <td>107735.512500</td>\n",
       "    </tr>\n",
       "    <tr>\n",
       "      <th>max</th>\n",
       "      <td>602069.000000</td>\n",
       "      <td>2016.000000</td>\n",
       "      <td>319210.270000</td>\n",
       "    </tr>\n",
       "  </tbody>\n",
       "</table>\n",
       "</div>"
      ],
      "text/plain": [
       "       no_of_employees   yr_of_estab  prevailing_wage\n",
       "count     25480.000000  25480.000000     25480.000000\n",
       "mean       5667.043210   1979.409929     74455.814592\n",
       "std       22877.928848     42.366929     52815.942327\n",
       "min         -26.000000   1800.000000         2.136700\n",
       "25%        1022.000000   1976.000000     34015.480000\n",
       "50%        2109.000000   1997.000000     70308.210000\n",
       "75%        3504.000000   2005.000000    107735.512500\n",
       "max      602069.000000   2016.000000    319210.270000"
      ]
     },
     "execution_count": 5,
     "metadata": {},
     "output_type": "execute_result"
    }
   ],
   "source": [
    "visa_df.describe()"
   ]
  },
  {
   "cell_type": "markdown",
   "id": "77402f2a",
   "metadata": {},
   "source": [
    "**Histogram**"
   ]
  },
  {
   "cell_type": "markdown",
   "id": "1ae87628",
   "metadata": {},
   "source": [
    "-  By applying emperical rule, we observed slight deviation in the count  of the data \n",
    "\n",
    "- Also Mean is slightly deviated from median\n",
    "\n",
    "- This gives an indication that the data does not follow normal distribution\n",
    "\n",
    "- to understand more clearly will visualize the data\n",
    "\n",
    "- its numerical data , so the plot name is: **Histogram**\n",
    "    \n",
    "- Histogram is a graph between Class intervals and Class Interval frequency\n",
    "\n",
    "- The plot is avaialble in **matplotlib package**\n",
    "\n",
    "- The method name is **hist**"
   ]
  },
  {
   "cell_type": "code",
   "execution_count": 10,
   "id": "787e7d4d",
   "metadata": {},
   "outputs": [
    {
     "data": {
      "text/plain": [
       "(array([3863., 2175., 2676., 2828., 2889., 2792., 2485., 2066., 1452.,\n",
       "         882.,  408.,  216.,  206.,  167.,  129.,  111.,   66.,   48.,\n",
       "          10.,   11.]),\n",
       " array([2.13670000e+00, 1.59625434e+04, 3.19229500e+04, 4.78833567e+04,\n",
       "        6.38437634e+04, 7.98041700e+04, 9.57645767e+04, 1.11724983e+05,\n",
       "        1.27685390e+05, 1.43645797e+05, 1.59606203e+05, 1.75566610e+05,\n",
       "        1.91527017e+05, 2.07487423e+05, 2.23447830e+05, 2.39408237e+05,\n",
       "        2.55368643e+05, 2.71329050e+05, 2.87289457e+05, 3.03249863e+05,\n",
       "        3.19210270e+05]),\n",
       " <BarContainer object of 20 artists>)"
      ]
     },
     "execution_count": 10,
     "metadata": {},
     "output_type": "execute_result"
    },
    {
     "data": {
      "image/png": "[encoded data removed]",
      "text/plain": [
       "<Figure size 640x480 with 1 Axes>"
      ]
     },
     "metadata": {},
     "output_type": "display_data"
    }
   ],
   "source": [
    "# Step-1 : Read the prevailing wage \n",
    "# Step-2: plt.hist()\n",
    "wage_data= visa_df['prevailing_wage']\n",
    "plt.hist(wage_data, bins=20) \n",
    "# bins are intervals and arays are values"
   ]
  },
  {
   "cell_type": "code",
   "execution_count": null,
   "id": "1462dc1a",
   "metadata": {},
   "outputs": [],
   "source": [
    "- Histogram will return 3 values \n",
    "\n",
    "    - Interval count array\n",
    "    \n",
    "    - We have 20 intervals, so we have 20 interval counts \n",
    "    \n",
    "    - bins: means no. of intervals\n",
    "    \n",
    "    - we have 20 intervals so we need 21 values\n",
    "    \n",
    "    - will display how many intervals are available\n",
    "\n",
    "- For example in the bins array, the first 2 forms one interval \n",
    "\n",
    "- 2.13 to 15962.543 the cunt is 3863\n",
    "\n",
    "- 3863 observations are available b/w 2.13 to 15962.543 \n",
    "\n",
    "- similarly 2175 observations are available b/w (15962.543, 31922.95)"
   ]
  },
  {
   "cell_type": "code",
   "execution_count": 11,
   "id": "912cc666",
   "metadata": {},
   "outputs": [
    {
     "data": {
      "text/plain": [
       "15962.5434"
      ]
     },
     "execution_count": 11,
     "metadata": {},
     "output_type": "execute_result"
    }
   ],
   "source": [
    "1.59625434e+04"
   ]
  },
  {
   "cell_type": "code",
   "execution_count": 5,
   "id": "fb187f7d",
   "metadata": {},
   "outputs": [
    {
     "name": "stdout",
     "output_type": "stream",
     "text": [
      "20\n",
      "21\n",
      "<BarContainer object of 20 artists>\n"
     ]
    },
    {
     "data": {
      "image/png": "[encoded data removed]",
      "text/plain": [
       "<Figure size 640x480 with 1 Axes>"
      ]
     },
     "metadata": {},
     "output_type": "display_data"
    }
   ],
   "source": [
    "wage_data= visa_df['prevailing_wage']\n",
    "count, bins, x = plt.hist(wage_data, bins=20)\n",
    "print(len(count))\n",
    "print(len(bins))\n",
    "print(x)"
   ]
  },
  {
   "cell_type": "code",
   "execution_count": 6,
   "id": "56303f5f",
   "metadata": {},
   "outputs": [
    {
     "name": "stdout",
     "output_type": "stream",
     "text": [
      "2175\n"
     ]
    }
   ],
   "source": [
    "lb = 1.59625434e+04\n",
    "ub = 3.19229500e+04\n",
    "con1=visa_df['prevailing_wage'] < ub\n",
    "con2=visa_df['prevailing_wage'] > lb\n",
    "con3 = con1 & con2\n",
    "print(len(visa_df[con3]))"
   ]
  },
  {
   "cell_type": "markdown",
   "id": "daaddf59",
   "metadata": {},
   "source": [
    "** Create a dataframe**"
   ]
  },
  {
   "cell_type": "code",
   "execution_count": 22,
   "id": "cfa94a14",
   "metadata": {},
   "outputs": [
    {
     "data": {
      "text/plain": [
       "array([3863., 2175., 2676., 2828., 2889., 2792., 2485., 2066., 1452.,\n",
       "        882.,  408.,  216.,  206.,  167.,  129.,  111.,   66.,   48.,\n",
       "         10.,   11.])"
      ]
     },
     "execution_count": 22,
     "metadata": {},
     "output_type": "execute_result"
    }
   ],
   "source": [
    "count"
   ]
  },
  {
   "cell_type": "code",
   "execution_count": 23,
   "id": "05c30349",
   "metadata": {},
   "outputs": [
    {
     "data": {
      "text/plain": [
       "array([2.13670000e+00, 1.59625434e+04, 3.19229500e+04, 4.78833567e+04,\n",
       "       6.38437634e+04, 7.98041700e+04, 9.57645767e+04, 1.11724983e+05,\n",
       "       1.27685390e+05, 1.43645797e+05, 1.59606203e+05, 1.75566610e+05,\n",
       "       1.91527017e+05, 2.07487423e+05, 2.23447830e+05, 2.39408237e+05,\n",
       "       2.55368643e+05, 2.71329050e+05, 2.87289457e+05, 3.03249863e+05,\n",
       "       3.19210270e+05])"
      ]
     },
     "execution_count": 23,
     "metadata": {},
     "output_type": "execute_result"
    }
   ],
   "source": [
    "bins"
   ]
  },
  {
   "cell_type": "code",
   "execution_count": 10,
   "id": "b81ed644",
   "metadata": {},
   "outputs": [
    {
     "name": "stdout",
     "output_type": "stream",
     "text": [
      "                                        Bins  Count\n",
      "0               (2.1367, 15962.543365000001)   3863\n",
      "1   (15962.543365000001, 31922.950030000004)   2175\n",
      "2    (31922.950030000004, 47883.35669500001)   2676\n",
      "3     (47883.35669500001, 63843.76336000001)   2828\n",
      "4     (63843.76336000001, 79804.17002500001)   2889\n",
      "5     (79804.17002500001, 95764.57669000002)   2792\n",
      "6    (95764.57669000002, 111724.98335500002)   2485\n",
      "7   (111724.98335500002, 127685.39002000002)   2066\n",
      "8   (127685.39002000002, 143645.79668500004)   1452\n",
      "9   (143645.79668500004, 159606.20335000003)    882\n",
      "10       (159606.20335000003, 175566.610015)    408\n",
      "11       (175566.610015, 191527.01668000003)    216\n",
      "12  (191527.01668000003, 207487.42334500005)    206\n",
      "13  (207487.42334500005, 223447.83001000003)    167\n",
      "14  (223447.83001000003, 239408.23667500002)    129\n",
      "15  (239408.23667500002, 255368.64334000004)    111\n",
      "16       (255368.64334000004, 271329.050005)     66\n",
      "17       (271329.050005, 287289.45667000004)     48\n",
      "18       (287289.45667000004, 303249.863335)     10\n",
      "19                (303249.863335, 319210.27)     11\n"
     ]
    }
   ],
   "source": [
    "counts, bin_edges = np.histogram(wage_data, bins=20)\n",
    "\n",
    "bins = [f\"({bin_edges[i]}, {bin_edges[i+1]})\" for i in range(len(bin_edges) - 1)]\n",
    "\n",
    "# Create a DataFrame\n",
    "histogram_df = pd.DataFrame({\n",
    "    'Bins': bins,\n",
    "    'Count': counts\n",
    "})\n",
    "\n",
    "print(histogram_df)"
   ]
  },
  {
   "cell_type": "code",
   "execution_count": null,
   "id": "5058fbc5",
   "metadata": {},
   "outputs": [],
   "source": [
    "# draw the histogram using seaborn...>  Homework"
   ]
  },
  {
   "cell_type": "code",
   "execution_count": null,
   "id": "213e2371",
   "metadata": {},
   "outputs": [],
   "source": []
  }
 ],
 "metadata": {
  "kernelspec": {
   "display_name": "Python 3 (ipykernel)",
   "language": "python",
   "name": "python3"
  },
  "language_info": {
   "codemirror_mode": {
    "name": "ipython",
    "version": 3
   },
   "file_extension": ".py",
   "mimetype": "text/x-python",
   "name": "python",
   "nbconvert_exporter": "python",
   "pygments_lexer": "ipython3",
   "version": "3.11.7"
  }
 },
 "nbformat": 4,
 "nbformat_minor": 5
}
